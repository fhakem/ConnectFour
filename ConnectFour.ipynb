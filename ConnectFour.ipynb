{
 "cells": [
  {
   "cell_type": "code",
   "execution_count": 15,
   "metadata": {},
   "outputs": [],
   "source": [
    "import numpy as np\n",
    "from model import ConnectFour, Agent\n",
    "from display import *\n",
    "from matplotlib import pyplot as plt\n",
    "import math"
   ]
  },
  {
   "cell_type": "markdown",
   "metadata": {},
   "source": [
    "# Environment"
   ]
  },
  {
   "cell_type": "code",
   "execution_count": 2,
   "metadata": {},
   "outputs": [
    {
     "output_type": "display_data",
     "data": {
      "text/plain": "<Figure size 432x288 with 1 Axes>",
      "image/svg+xml": "<?xml version=\"1.0\" encoding=\"utf-8\" standalone=\"no\"?>\r\n<!DOCTYPE svg PUBLIC \"-//W3C//DTD SVG 1.1//EN\"\r\n  \"http://www.w3.org/Graphics/SVG/1.1/DTD/svg11.dtd\">\r\n<!-- Created with matplotlib (https://matplotlib.org/) -->\r\n<svg height=\"231.84pt\" version=\"1.1\" viewBox=\"0 0 268.08 231.84\" width=\"268.08pt\" xmlns=\"http://www.w3.org/2000/svg\" xmlns:xlink=\"http://www.w3.org/1999/xlink\">\r\n <defs>\r\n  <style type=\"text/css\">\r\n*{stroke-linecap:butt;stroke-linejoin:round;}\r\n  </style>\r\n </defs>\r\n <g id=\"figure_1\">\r\n  <g id=\"patch_1\">\r\n   <path d=\"M 0 231.84 \r\nL 268.08 231.84 \r\nL 268.08 0 \r\nL 0 0 \r\nz\r\n\" style=\"fill:none;\"/>\r\n  </g>\r\n  <g id=\"axes_1\">\r\n   <g clip-path=\"url(#pecce2662a8)\">\r\n    <image height=\"218\" id=\"image1746ceab67\" transform=\"scale(1 -1)translate(0 -218)\" width=\"254\" x=\"7.2\" xlink:href=\"data:image/png;base64,\r\niVBORw0KGgoAAAANSUhEUgAAAP4AAADaCAYAAACGq/9xAAAABHNCSVQICAgIfAhkiAAAApFJREFUeJzt0zEBACAMwLCBf8/gAo4mCvp0zZwzQMr+HQC8Z3wIMj4EGR+CjA9Bxocg40OQ8SHI+BBkfAgyPgQZH4KMD0HGhyDjQ5DxIcj4EGR8CDI+BBkfgowPQcaHIONDkPEhyPgQZHwIMj4EGR+CjA9Bxocg40OQ8SHI+BBkfAgyPgQZH4KMD0HGhyDjQ5DxIcj4EGR8CDI+BBkfgowPQcaHIONDkPEhyPgQZHwIMj4EGR+CjA9Bxocg40OQ8SHI+BBkfAgyPgQZH4KMD0HGhyDjQ5DxIcj4EGR8CDI+BBkfgowPQcaHIONDkPEhyPgQZHwIMj4EGR+CjA9Bxocg40OQ8SHI+BBkfAgyPgQZH4KMD0HGhyDjQ5DxIcj4EGR8CDI+BBkfgowPQcaHIONDkPEhyPgQZHwIMj4EGR+CjA9Bxocg40OQ8SHI+BBkfAgyPgQZH4KMD0HGhyDjQ5DxIcj4EGR8CDI+BBkfgowPQcaHIONDkPEhyPgQZHwIMj4EGR+CjA9Bxocg40OQ8SHI+BBkfAgyPgQZH4KMD0HGhyDjQ5DxIcj4EGR8CDI+BBkfgowPQcaHIONDkPEhyPgQZHwIMj4EGR+CjA9Bxocg40OQ8SHI+BBkfAgyPgQZH4KMD0HGhyDjQ5DxIcj4EGR8CDI+BBkfgowPQcaHIONDkPEhyPgQZHwIMj4EGR+CjA9Bxocg40OQ8SHI+BBkfAgyPgQZH4KMD0HGhyDjQ5DxIcj4EGR8CDI+BBkfgowPQcaHIONDkPEhyPgQZHwIMj4EGR+CjA9Bxocg40OQ8SHI+BBkfAgyPgQZH4KMD0HGhyDjQ5DxIcj4EGR8CDI+BBkfgowPQcaHIONDkPEhyPgQdAG3/wOyPpYAYAAAAABJRU5ErkJggg==\" y=\"-6.64\"/>\r\n   </g>\r\n   <g id=\"PathCollection_1\"/>\r\n   <g id=\"PathCollection_2\"/>\r\n  </g>\r\n </g>\r\n <defs>\r\n  <clipPath id=\"pecce2662a8\">\r\n   <rect height=\"217.44\" width=\"253.68\" x=\"7.2\" y=\"7.2\"/>\r\n  </clipPath>\r\n </defs>\r\n</svg>\r\n",
      "image/png": "[encoded data removed]"
     },
     "metadata": {
      "needs_background": "light"
     }
    },
    {
     "output_type": "display_data",
     "data": {
      "text/plain": "<Figure size 432x288 with 0 Axes>"
     },
     "metadata": {}
    }
   ],
   "source": [
    "cf = ConnectFour()\n",
    "cf.init_state()\n",
    "cf.display()"
   ]
  },
  {
   "cell_type": "code",
   "execution_count": 8,
   "metadata": {},
   "outputs": [
    {
     "output_type": "execute_result",
     "data": {
      "text/plain": [
       "(0, False)"
      ]
     },
     "metadata": {},
     "execution_count": 8
    }
   ],
   "source": [
    "cf.step(3)"
   ]
  },
  {
   "cell_type": "code",
   "execution_count": 9,
   "metadata": {},
   "outputs": [
    {
     "output_type": "display_data",
     "data": {
      "text/plain": "<Figure size 432x288 with 1 Axes>",
      "image/svg+xml": "<?xml version=\"1.0\" encoding=\"utf-8\" standalone=\"no\"?>\r\n<!DOCTYPE svg PUBLIC \"-//W3C//DTD SVG 1.1//EN\"\r\n  \"http://www.w3.org/Graphics/SVG/1.1/DTD/svg11.dtd\">\r\n<!-- Created with matplotlib (https://matplotlib.org/) -->\r\n<svg height=\"231.84pt\" version=\"1.1\" viewBox=\"0 0 268.08 231.84\" width=\"268.08pt\" xmlns=\"http://www.w3.org/2000/svg\" xmlns:xlink=\"http://www.w3.org/1999/xlink\">\r\n <defs>\r\n  <style type=\"text/css\">\r\n*{stroke-linecap:butt;stroke-linejoin:round;}\r\n  </style>\r\n </defs>\r\n <g id=\"figure_1\">\r\n  <g id=\"patch_1\">\r\n   <path d=\"M 0 231.84 \r\nL 268.08 231.84 \r\nL 268.08 0 \r\nL 0 0 \r\nz\r\n\" style=\"fill:none;\"/>\r\n  </g>\r\n  <g id=\"axes_1\">\r\n   <g clip-path=\"url(#p6cacd06272)\">\r\n    <image height=\"218\" id=\"image5643ab52fb\" transform=\"scale(1 -1)translate(0 -218)\" width=\"254\" x=\"7.2\" xlink:href=\"data:image/png;base64,\r\niVBORw0KGgoAAAANSUhEUgAAAP4AAADaCAYAAACGq/9xAAAABHNCSVQICAgIfAhkiAAAApFJREFUeJzt0zEBACAMwLCBf8/gAo4mCvp0zZwzQMr+HQC8Z3wIMj4EGR+CjA9Bxocg40OQ8SHI+BBkfAgyPgQZH4KMD0HGhyDjQ5DxIcj4EGR8CDI+BBkfgowPQcaHIONDkPEhyPgQZHwIMj4EGR+CjA9Bxocg40OQ8SHI+BBkfAgyPgQZH4KMD0HGhyDjQ5DxIcj4EGR8CDI+BBkfgowPQcaHIONDkPEhyPgQZHwIMj4EGR+CjA9Bxocg40OQ8SHI+BBkfAgyPgQZH4KMD0HGhyDjQ5DxIcj4EGR8CDI+BBkfgowPQcaHIONDkPEhyPgQZHwIMj4EGR+CjA9Bxocg40OQ8SHI+BBkfAgyPgQZH4KMD0HGhyDjQ5DxIcj4EGR8CDI+BBkfgowPQcaHIONDkPEhyPgQZHwIMj4EGR+CjA9Bxocg40OQ8SHI+BBkfAgyPgQZH4KMD0HGhyDjQ5DxIcj4EGR8CDI+BBkfgowPQcaHIONDkPEhyPgQZHwIMj4EGR+CjA9Bxocg40OQ8SHI+BBkfAgyPgQZH4KMD0HGhyDjQ5DxIcj4EGR8CDI+BBkfgowPQcaHIONDkPEhyPgQZHwIMj4EGR+CjA9Bxocg40OQ8SHI+BBkfAgyPgQZH4KMD0HGhyDjQ5DxIcj4EGR8CDI+BBkfgowPQcaHIONDkPEhyPgQZHwIMj4EGR+CjA9Bxocg40OQ8SHI+BBkfAgyPgQZH4KMD0HGhyDjQ5DxIcj4EGR8CDI+BBkfgowPQcaHIONDkPEhyPgQZHwIMj4EGR+CjA9Bxocg40OQ8SHI+BBkfAgyPgQZH4KMD0HGhyDjQ5DxIcj4EGR8CDI+BBkfgowPQcaHIONDkPEhyPgQdAG3/wOyPpYAYAAAAABJRU5ErkJggg==\" y=\"-6.64\"/>\r\n   </g>\r\n   <g id=\"PathCollection_1\">\r\n    <defs>\r\n     <path d=\"M 0 15.811388 \r\nC 4.193229 15.811388 8.215279 14.145401 11.18034 11.18034 \r\nC 14.145401 8.215279 15.811388 4.193229 15.811388 0 \r\nC 15.811388 -4.193229 14.145401 -8.215279 11.18034 -11.18034 \r\nC 8.215279 -14.145401 4.193229 -15.811388 0 -15.811388 \r\nC -4.193229 -15.811388 -8.215279 -14.145401 -11.18034 -11.18034 \r\nC -14.145401 -8.215279 -15.811388 -4.193229 -15.811388 0 \r\nC -15.811388 4.193229 -14.145401 8.215279 -11.18034 11.18034 \r\nC -8.215279 14.145401 -4.193229 15.811388 0 15.811388 \r\nz\r\n\" id=\"mc94042fcfa\" style=\"stroke:#ffd700;\"/>\r\n    </defs>\r\n    <g clip-path=\"url(#p6cacd06272)\">\r\n     <use style=\"fill:#ffd700;stroke:#ffd700;\" x=\"134.04\" xlink:href=\"#mc94042fcfa\" y=\"61.56\"/>\r\n     <use style=\"fill:#ffd700;stroke:#ffd700;\" x=\"134.04\" xlink:href=\"#mc94042fcfa\" y=\"134.04\"/>\r\n     <use style=\"fill:#ffd700;stroke:#ffd700;\" x=\"134.04\" xlink:href=\"#mc94042fcfa\" y=\"206.52\"/>\r\n    </g>\r\n   </g>\r\n   <g id=\"PathCollection_2\">\r\n    <defs>\r\n     <path d=\"M 0 15.811388 \r\nC 4.193229 15.811388 8.215279 14.145401 11.18034 11.18034 \r\nC 14.145401 8.215279 15.811388 4.193229 15.811388 0 \r\nC 15.811388 -4.193229 14.145401 -8.215279 11.18034 -11.18034 \r\nC 8.215279 -14.145401 4.193229 -15.811388 0 -15.811388 \r\nC -4.193229 -15.811388 -8.215279 -14.145401 -11.18034 -11.18034 \r\nC -14.145401 -8.215279 -15.811388 -4.193229 -15.811388 0 \r\nC -15.811388 4.193229 -14.145401 8.215279 -11.18034 11.18034 \r\nC -8.215279 14.145401 -4.193229 15.811388 0 15.811388 \r\nz\r\n\" id=\"m7297b7813d\" style=\"stroke:#ff0000;\"/>\r\n    </defs>\r\n    <g clip-path=\"url(#p6cacd06272)\">\r\n     <use style=\"fill:#ff0000;stroke:#ff0000;\" x=\"134.04\" xlink:href=\"#m7297b7813d\" y=\"25.32\"/>\r\n     <use style=\"fill:#ff0000;stroke:#ff0000;\" x=\"134.04\" xlink:href=\"#m7297b7813d\" y=\"97.8\"/>\r\n     <use style=\"fill:#ff0000;stroke:#ff0000;\" x=\"134.04\" xlink:href=\"#m7297b7813d\" y=\"170.28\"/>\r\n    </g>\r\n   </g>\r\n  </g>\r\n </g>\r\n <defs>\r\n  <clipPath id=\"p6cacd06272\">\r\n   <rect height=\"217.44\" width=\"253.68\" x=\"7.2\" y=\"7.2\"/>\r\n  </clipPath>\r\n </defs>\r\n</svg>\r\n",
      "image/png": "[encoded data removed]"
     },
     "metadata": {
      "needs_background": "light"
     }
    },
    {
     "output_type": "display_data",
     "data": {
      "text/plain": "<Figure size 432x288 with 0 Axes>"
     },
     "metadata": {}
    }
   ],
   "source": [
    "cf.display()"
   ]
  },
  {
   "cell_type": "code",
   "execution_count": 10,
   "metadata": {},
   "outputs": [
    {
     "output_type": "display_data",
     "data": {
      "text/plain": "<Figure size 432x288 with 1 Axes>",
      "image/svg+xml": "<?xml version=\"1.0\" encoding=\"utf-8\" standalone=\"no\"?>\r\n<!DOCTYPE svg PUBLIC \"-//W3C//DTD SVG 1.1//EN\"\r\n  \"http://www.w3.org/Graphics/SVG/1.1/DTD/svg11.dtd\">\r\n<!-- Created with matplotlib (https://matplotlib.org/) -->\r\n<svg height=\"231.84pt\" version=\"1.1\" viewBox=\"0 0 268.08 231.84\" width=\"268.08pt\" xmlns=\"http://www.w3.org/2000/svg\" xmlns:xlink=\"http://www.w3.org/1999/xlink\">\r\n <defs>\r\n  <style type=\"text/css\">\r\n*{stroke-linecap:butt;stroke-linejoin:round;}\r\n  </style>\r\n </defs>\r\n <g id=\"figure_1\">\r\n  <g id=\"patch_1\">\r\n   <path d=\"M 0 231.84 \r\nL 268.08 231.84 \r\nL 268.08 0 \r\nL 0 0 \r\nz\r\n\" style=\"fill:none;\"/>\r\n  </g>\r\n  <g id=\"axes_1\">\r\n   <g clip-path=\"url(#pa32a6095a8)\">\r\n    <image height=\"218\" id=\"image52324330d7\" transform=\"scale(1 -1)translate(0 -218)\" width=\"254\" x=\"7.2\" xlink:href=\"data:image/png;base64,\r\niVBORw0KGgoAAAANSUhEUgAAAP4AAADaCAYAAACGq/9xAAAABHNCSVQICAgIfAhkiAAAApFJREFUeJzt0zEBACAMwLCBf8/gAo4mCvp0zZwzQMr+HQC8Z3wIMj4EGR+CjA9Bxocg40OQ8SHI+BBkfAgyPgQZH4KMD0HGhyDjQ5DxIcj4EGR8CDI+BBkfgowPQcaHIONDkPEhyPgQZHwIMj4EGR+CjA9Bxocg40OQ8SHI+BBkfAgyPgQZH4KMD0HGhyDjQ5DxIcj4EGR8CDI+BBkfgowPQcaHIONDkPEhyPgQZHwIMj4EGR+CjA9Bxocg40OQ8SHI+BBkfAgyPgQZH4KMD0HGhyDjQ5DxIcj4EGR8CDI+BBkfgowPQcaHIONDkPEhyPgQZHwIMj4EGR+CjA9Bxocg40OQ8SHI+BBkfAgyPgQZH4KMD0HGhyDjQ5DxIcj4EGR8CDI+BBkfgowPQcaHIONDkPEhyPgQZHwIMj4EGR+CjA9Bxocg40OQ8SHI+BBkfAgyPgQZH4KMD0HGhyDjQ5DxIcj4EGR8CDI+BBkfgowPQcaHIONDkPEhyPgQZHwIMj4EGR+CjA9Bxocg40OQ8SHI+BBkfAgyPgQZH4KMD0HGhyDjQ5DxIcj4EGR8CDI+BBkfgowPQcaHIONDkPEhyPgQZHwIMj4EGR+CjA9Bxocg40OQ8SHI+BBkfAgyPgQZH4KMD0HGhyDjQ5DxIcj4EGR8CDI+BBkfgowPQcaHIONDkPEhyPgQZHwIMj4EGR+CjA9Bxocg40OQ8SHI+BBkfAgyPgQZH4KMD0HGhyDjQ5DxIcj4EGR8CDI+BBkfgowPQcaHIONDkPEhyPgQZHwIMj4EGR+CjA9Bxocg40OQ8SHI+BBkfAgyPgQZH4KMD0HGhyDjQ5DxIcj4EGR8CDI+BBkfgowPQcaHIONDkPEhyPgQdAG3/wOyPpYAYAAAAABJRU5ErkJggg==\" y=\"-6.64\"/>\r\n   </g>\r\n   <g id=\"PathCollection_1\">\r\n    <defs>\r\n     <path d=\"M 0 15.811388 \r\nC 4.193229 15.811388 8.215279 14.145401 11.18034 11.18034 \r\nC 14.145401 8.215279 15.811388 4.193229 15.811388 0 \r\nC 15.811388 -4.193229 14.145401 -8.215279 11.18034 -11.18034 \r\nC 8.215279 -14.145401 4.193229 -15.811388 0 -15.811388 \r\nC -4.193229 -15.811388 -8.215279 -14.145401 -11.18034 -11.18034 \r\nC -14.145401 -8.215279 -15.811388 -4.193229 -15.811388 0 \r\nC -15.811388 4.193229 -14.145401 8.215279 -11.18034 11.18034 \r\nC -8.215279 14.145401 -4.193229 15.811388 0 15.811388 \r\nz\r\n\" id=\"m11b9786637\" style=\"stroke:#ffd700;\"/>\r\n    </defs>\r\n    <g clip-path=\"url(#pa32a6095a8)\">\r\n     <use style=\"fill:#ffd700;stroke:#ffd700;\" x=\"134.04\" xlink:href=\"#m11b9786637\" y=\"61.56\"/>\r\n     <use style=\"fill:#ffd700;stroke:#ffd700;\" x=\"134.04\" xlink:href=\"#m11b9786637\" y=\"134.04\"/>\r\n     <use style=\"fill:#ffd700;stroke:#ffd700;\" x=\"97.8\" xlink:href=\"#m11b9786637\" y=\"206.52\"/>\r\n     <use style=\"fill:#ffd700;stroke:#ffd700;\" x=\"134.04\" xlink:href=\"#m11b9786637\" y=\"206.52\"/>\r\n    </g>\r\n   </g>\r\n   <g id=\"PathCollection_2\">\r\n    <defs>\r\n     <path d=\"M 0 15.811388 \r\nC 4.193229 15.811388 8.215279 14.145401 11.18034 11.18034 \r\nC 14.145401 8.215279 15.811388 4.193229 15.811388 0 \r\nC 15.811388 -4.193229 14.145401 -8.215279 11.18034 -11.18034 \r\nC 8.215279 -14.145401 4.193229 -15.811388 0 -15.811388 \r\nC -4.193229 -15.811388 -8.215279 -14.145401 -11.18034 -11.18034 \r\nC -14.145401 -8.215279 -15.811388 -4.193229 -15.811388 0 \r\nC -15.811388 4.193229 -14.145401 8.215279 -11.18034 11.18034 \r\nC -8.215279 14.145401 -4.193229 15.811388 0 15.811388 \r\nz\r\n\" id=\"ma50d21d95b\" style=\"stroke:#ff0000;\"/>\r\n    </defs>\r\n    <g clip-path=\"url(#pa32a6095a8)\">\r\n     <use style=\"fill:#ff0000;stroke:#ff0000;\" x=\"134.04\" xlink:href=\"#ma50d21d95b\" y=\"25.32\"/>\r\n     <use style=\"fill:#ff0000;stroke:#ff0000;\" x=\"134.04\" xlink:href=\"#ma50d21d95b\" y=\"97.8\"/>\r\n     <use style=\"fill:#ff0000;stroke:#ff0000;\" x=\"134.04\" xlink:href=\"#ma50d21d95b\" y=\"170.28\"/>\r\n    </g>\r\n   </g>\r\n  </g>\r\n </g>\r\n <defs>\r\n  <clipPath id=\"pa32a6095a8\">\r\n   <rect height=\"217.44\" width=\"253.68\" x=\"7.2\" y=\"7.2\"/>\r\n  </clipPath>\r\n </defs>\r\n</svg>\r\n",
      "image/png": "[encoded data removed]"
     },
     "metadata": {
      "needs_background": "light"
     }
    },
    {
     "output_type": "display_data",
     "data": {
      "text/plain": "<Figure size 432x288 with 0 Axes>"
     },
     "metadata": {}
    }
   ],
   "source": [
    "cf.step()\n",
    "cf.display()"
   ]
  },
  {
   "cell_type": "code",
   "execution_count": 11,
   "metadata": {},
   "outputs": [
    {
     "output_type": "execute_result",
     "data": {
      "text/plain": [
       "(-1, array([[ 0,  0,  0, -1,  0,  0,  0],\n",
       "        [ 0,  0,  0,  1,  0,  0,  0],\n",
       "        [ 0,  0,  0, -1,  0,  0,  0],\n",
       "        [ 0,  0,  0,  1,  0,  0,  0],\n",
       "        [ 0,  0,  0, -1,  0,  0,  0],\n",
       "        [ 0,  0,  1,  1,  0,  0,  0]]))"
      ]
     },
     "metadata": {},
     "execution_count": 11
    }
   ],
   "source": [
    "cf.state"
   ]
  },
  {
   "cell_type": "code",
   "execution_count": 12,
   "metadata": {},
   "outputs": [
    {
     "output_type": "display_data",
     "data": {
      "text/plain": "<Figure size 432x288 with 1 Axes>",
      "image/svg+xml": "<?xml version=\"1.0\" encoding=\"utf-8\" standalone=\"no\"?>\r\n<!DOCTYPE svg PUBLIC \"-//W3C//DTD SVG 1.1//EN\"\r\n  \"http://www.w3.org/Graphics/SVG/1.1/DTD/svg11.dtd\">\r\n<!-- Created with matplotlib (https://matplotlib.org/) -->\r\n<svg height=\"231.84pt\" version=\"1.1\" viewBox=\"0 0 268.08 231.84\" width=\"268.08pt\" xmlns=\"http://www.w3.org/2000/svg\" xmlns:xlink=\"http://www.w3.org/1999/xlink\">\r\n <defs>\r\n  <style type=\"text/css\">\r\n*{stroke-linecap:butt;stroke-linejoin:round;}\r\n  </style>\r\n </defs>\r\n <g id=\"figure_1\">\r\n  <g id=\"patch_1\">\r\n   <path d=\"M 0 231.84 \r\nL 268.08 231.84 \r\nL 268.08 0 \r\nL 0 0 \r\nz\r\n\" style=\"fill:none;\"/>\r\n  </g>\r\n  <g id=\"axes_1\">\r\n   <g clip-path=\"url(#p2c014f7cd3)\">\r\n    <image height=\"218\" id=\"imageeb21e29855\" transform=\"scale(1 -1)translate(0 -218)\" width=\"254\" x=\"7.2\" xlink:href=\"data:image/png;base64,\r\niVBORw0KGgoAAAANSUhEUgAAAP4AAADaCAYAAACGq/9xAAAABHNCSVQICAgIfAhkiAAAApFJREFUeJzt0zEBACAMwLCBf8/gAo4mCvp0zZwzQMr+HQC8Z3wIMj4EGR+CjA9Bxocg40OQ8SHI+BBkfAgyPgQZH4KMD0HGhyDjQ5DxIcj4EGR8CDI+BBkfgowPQcaHIONDkPEhyPgQZHwIMj4EGR+CjA9Bxocg40OQ8SHI+BBkfAgyPgQZH4KMD0HGhyDjQ5DxIcj4EGR8CDI+BBkfgowPQcaHIONDkPEhyPgQZHwIMj4EGR+CjA9Bxocg40OQ8SHI+BBkfAgyPgQZH4KMD0HGhyDjQ5DxIcj4EGR8CDI+BBkfgowPQcaHIONDkPEhyPgQZHwIMj4EGR+CjA9Bxocg40OQ8SHI+BBkfAgyPgQZH4KMD0HGhyDjQ5DxIcj4EGR8CDI+BBkfgowPQcaHIONDkPEhyPgQZHwIMj4EGR+CjA9Bxocg40OQ8SHI+BBkfAgyPgQZH4KMD0HGhyDjQ5DxIcj4EGR8CDI+BBkfgowPQcaHIONDkPEhyPgQZHwIMj4EGR+CjA9Bxocg40OQ8SHI+BBkfAgyPgQZH4KMD0HGhyDjQ5DxIcj4EGR8CDI+BBkfgowPQcaHIONDkPEhyPgQZHwIMj4EGR+CjA9Bxocg40OQ8SHI+BBkfAgyPgQZH4KMD0HGhyDjQ5DxIcj4EGR8CDI+BBkfgowPQcaHIONDkPEhyPgQZHwIMj4EGR+CjA9Bxocg40OQ8SHI+BBkfAgyPgQZH4KMD0HGhyDjQ5DxIcj4EGR8CDI+BBkfgowPQcaHIONDkPEhyPgQZHwIMj4EGR+CjA9Bxocg40OQ8SHI+BBkfAgyPgQZH4KMD0HGhyDjQ5DxIcj4EGR8CDI+BBkfgowPQcaHIONDkPEhyPgQdAG3/wOyPpYAYAAAAABJRU5ErkJggg==\" y=\"-6.64\"/>\r\n   </g>\r\n   <g id=\"PathCollection_1\">\r\n    <defs>\r\n     <path d=\"M 0 15.811388 \r\nC 4.193229 15.811388 8.215279 14.145401 11.18034 11.18034 \r\nC 14.145401 8.215279 15.811388 4.193229 15.811388 0 \r\nC 15.811388 -4.193229 14.145401 -8.215279 11.18034 -11.18034 \r\nC 8.215279 -14.145401 4.193229 -15.811388 0 -15.811388 \r\nC -4.193229 -15.811388 -8.215279 -14.145401 -11.18034 -11.18034 \r\nC -14.145401 -8.215279 -15.811388 -4.193229 -15.811388 0 \r\nC -15.811388 4.193229 -14.145401 8.215279 -11.18034 11.18034 \r\nC -8.215279 14.145401 -4.193229 15.811388 0 15.811388 \r\nz\r\n\" id=\"mde6d1492c5\" style=\"stroke:#ffd700;\"/>\r\n    </defs>\r\n    <g clip-path=\"url(#p2c014f7cd3)\">\r\n     <use style=\"fill:#ffd700;stroke:#ffd700;\" x=\"134.04\" xlink:href=\"#mde6d1492c5\" y=\"61.56\"/>\r\n     <use style=\"fill:#ffd700;stroke:#ffd700;\" x=\"134.04\" xlink:href=\"#mde6d1492c5\" y=\"134.04\"/>\r\n     <use style=\"fill:#ffd700;stroke:#ffd700;\" x=\"97.8\" xlink:href=\"#mde6d1492c5\" y=\"206.52\"/>\r\n     <use style=\"fill:#ffd700;stroke:#ffd700;\" x=\"134.04\" xlink:href=\"#mde6d1492c5\" y=\"206.52\"/>\r\n    </g>\r\n   </g>\r\n   <g id=\"PathCollection_2\">\r\n    <defs>\r\n     <path d=\"M 0 15.811388 \r\nC 4.193229 15.811388 8.215279 14.145401 11.18034 11.18034 \r\nC 14.145401 8.215279 15.811388 4.193229 15.811388 0 \r\nC 15.811388 -4.193229 14.145401 -8.215279 11.18034 -11.18034 \r\nC 8.215279 -14.145401 4.193229 -15.811388 0 -15.811388 \r\nC -4.193229 -15.811388 -8.215279 -14.145401 -11.18034 -11.18034 \r\nC -14.145401 -8.215279 -15.811388 -4.193229 -15.811388 0 \r\nC -15.811388 4.193229 -14.145401 8.215279 -11.18034 11.18034 \r\nC -8.215279 14.145401 -4.193229 15.811388 0 15.811388 \r\nz\r\n\" id=\"mf814abd6a9\" style=\"stroke:#ff0000;\"/>\r\n    </defs>\r\n    <g clip-path=\"url(#p2c014f7cd3)\">\r\n     <use style=\"fill:#ff0000;stroke:#ff0000;\" x=\"134.04\" xlink:href=\"#mf814abd6a9\" y=\"25.32\"/>\r\n     <use style=\"fill:#ff0000;stroke:#ff0000;\" x=\"134.04\" xlink:href=\"#mf814abd6a9\" y=\"97.8\"/>\r\n     <use style=\"fill:#ff0000;stroke:#ff0000;\" x=\"134.04\" xlink:href=\"#mf814abd6a9\" y=\"170.28\"/>\r\n    </g>\r\n   </g>\r\n  </g>\r\n </g>\r\n <defs>\r\n  <clipPath id=\"p2c014f7cd3\">\r\n   <rect height=\"217.44\" width=\"253.68\" x=\"7.2\" y=\"7.2\"/>\r\n  </clipPath>\r\n </defs>\r\n</svg>\r\n",
      "image/png": "[encoded data removed]"
     },
     "metadata": {
      "needs_background": "light"
     }
    },
    {
     "output_type": "display_data",
     "data": {
      "text/plain": "<Figure size 432x288 with 0 Axes>"
     },
     "metadata": {}
    }
   ],
   "source": [
    "cf.display()"
   ]
  },
  {
   "cell_type": "markdown",
   "metadata": {},
   "source": [
    "# Training an agent\n",
    "We want to train an agent, that is a function that takes the current state of the game and computes the next move. This agent must learn by trial and error, so by playing games against some default adversary and then receive rewards or penalties as they win or lose the games. We will implement UCT, the tree exploration algorithm seen in class and based on optimism.\n"
   ]
  },
  {
   "cell_type": "code",
   "execution_count": null,
   "metadata": {},
   "outputs": [],
   "source": []
  },
  {
   "cell_type": "markdown",
   "metadata": {},
   "source": [
    "## Tree structures in Python\n",
    "Python does not have a built in tree data structure but you can easily find one on the internet though it is easy enough to code your own"
   ]
  },
  {
   "cell_type": "code",
   "execution_count": 13,
   "metadata": {},
   "outputs": [],
   "source": [
    "class Node:\n",
    "    def __init__(self,state=None, parent=None, is_root=False):\n",
    "        self.state = state # store the couple (player, board) \n",
    "        self.children = {}\n",
    "        self.parent = parent\n",
    "        self.nb_games = 0\n",
    "        self.nb_wins = 0\n",
    "        self.is_root = is_root\n",
    "        \n",
    "    def add_child(self, child, action):\n",
    "        \"\"\"\n",
    "        add a child in the form of a dictionary entry indexed by the action that leads to it\n",
    "        child: Node object\n",
    "        action: integer\n",
    "        \"\"\"\n",
    "        self.children[action] = child\n",
    "        child.set_parent(self)      \n",
    "        \n",
    "        \n",
    "    def set_parent(self, parent):\n",
    "        \"\"\"\n",
    "        parent is a Node object that has self as a child\n",
    "        \"\"\"\n",
    "        self.parent = parent\n",
    "        \n",
    "    def set_value(self,val):\n",
    "        self.value = val\n",
    "        \n",
    "    def set_state(self, state):\n",
    "        self.state = state"
   ]
  },
  {
   "cell_type": "markdown",
   "metadata": {},
   "source": [
    "## The MCTS agent: growing a tree\n",
    "an MCTS agent "
   ]
  },
  {
   "cell_type": "code",
   "execution_count": 23,
   "metadata": {},
   "outputs": [],
   "source": [
    "\n",
    "class MCTS(Agent):\n",
    "    \n",
    "    def __init__(self, environment=ConnectFour):\n",
    "        self.game = environment()\n",
    "        self.game.init_state()\n",
    "        self.root = Node(is_root=True, state=self.game.state) # a tree node with no parent\n",
    "        self.current_node = self.root #initialize at the root\n",
    "        self.nb_games = 0\n",
    "        \n",
    "    def reset(self):\n",
    "        self.current_node = self.root\n",
    "        \n",
    "    def train(self, nb_rounds=10, printing=False):\n",
    "        for n in range(nb_rounds):\n",
    "            # start a game\n",
    "            self.game.init_state()\n",
    "            \n",
    "            self.current_node = self.root\n",
    "            final = False\n",
    "            if printing:\n",
    "                    print('entering game number '+str(n))\n",
    "            while not final:\n",
    "                \n",
    "                available_actions = self.game.get_actions(self.current_node.state)\n",
    "                known_actions = self.current_node.children.keys()\n",
    "                unknown_actions = list(set(available_actions) - set(known_actions))\n",
    "\n",
    "                # known tree area: \n",
    "                if unknown_actions == []:\n",
    "                    if printing:\n",
    "                        print('node fully expanded: choose next with UCT')\n",
    "                    #compute next move according to the MCTS algorithm with UCT\n",
    "                    action = self.next_move()\n",
    "                    self.current_node = self.current_node.children[action]\n",
    "\n",
    "                    reward, final = self.game.step(action)\n",
    "                    \n",
    "                    \n",
    "                # unknown tree area: need to expand the tree\n",
    "                else:\n",
    "                    if printing:\n",
    "                        print('node not fully expanded: explore and expand')\n",
    "                    # find an action that has not been explored\n",
    "                    action = unknown_actions[0]\n",
    "                            \n",
    "                    \n",
    "                    child= self.expand(self.current_node, action) # play default policy until the end to get a reward\n",
    "                    self.current_node = child\n",
    "                    \n",
    "                    # simulate the end of the game with random plays\n",
    "                    reward = self.simulate()\n",
    "                    \n",
    "                    if printing:\n",
    "                        print('node expanded')\n",
    "                    \n",
    "                    final = True\n",
    "                    \n",
    "            # game is over, reward is collected, now we backpropagate it on the path\n",
    "                    \n",
    "            self.backpropagate(self.current_node, reward) # backprop the rewards up in the tree\n",
    "            if printing:\n",
    "                print('reward backpropagated from child')\n",
    "                self.game.display()\n",
    "\n",
    "            self.nb_games +=1\n",
    "\n",
    "                    \n",
    "            \n",
    "            \n",
    "            \n",
    "        \n",
    "    def next_move(self):\n",
    "        \"\"\"\n",
    "        returns the next move (integer action) given a board state (Node object)\n",
    "        \"\"\"\n",
    "        values = dict()\n",
    "        ## TODO:  implement UCT decision with C_p = 1.\n",
    "        for action, child in self.current_node.children.items():\n",
    "            values[action] = np.random.random\n",
    "            \n",
    "            \n",
    "        chosen_action = max(values, key=(lambda k: values[k]))\n",
    "        return chosen_action\n",
    "\n",
    "            \n",
    "    def backpropagate(self, expanded_node, reward):\n",
    "        \"\"\" propagates back the value received by the expanded node following rollout\"\"\"\n",
    "        \n",
    "        current_node = expanded_node\n",
    "        \n",
    "        while not current_node.is_root: \n",
    "            \n",
    "#             self.game.display(states=current_node.state)\n",
    "               \n",
    "            current_node.nb_wins += reward\n",
    "            \n",
    "            current_node.nb_games += 1\n",
    "            current_node = current_node.parent\n",
    "            reward *= -1 # propagate opposite values along the path for each player\n",
    "            \n",
    "            \n",
    "            \n",
    "    def expand(self, current_node, move):\n",
    "        \"\"\"\n",
    "        move into chosen child state (node created created)\n",
    "        \"\"\"\n",
    "        # add a node ...\n",
    "        child = Node(parent=current_node)\n",
    "        child.nb_games = 1 # it is being played\n",
    "        current_node.add_child(child, move)\n",
    "        _, state = self.game.get_transition(current_node.state, move)\n",
    "        child.set_state(list(state[0]))\n",
    "        \n",
    "\n",
    "        return child\n",
    "    \n",
    "\n",
    "    def simulate(self):\n",
    "        final = False\n",
    "        while not final:\n",
    "            reward, final = self.game.step()\n",
    "            \n",
    "        return reward\n",
    "    \n",
    "    def play(self):\n",
    "        available_actions = self.game.get_actions(self.game.state)\n",
    "        known_actions = self.current_node.children.keys()\n",
    "        unknown_actions = list(set(available_actions) - set(known_actions))\n",
    "\n",
    "        # known tree area: \n",
    "        if unknown_actions == []:\n",
    "            \n",
    "            #compute next move according to the MCTS algorithm with UCT\n",
    "            action = self.next_move()\n",
    "\n",
    "\n",
    "        # unknown tree area: need to expand the tree\n",
    "        else:\n",
    "            # find an action that has not been explored\n",
    "            \n",
    "            action = np.random.choice(unknown_actions)\n",
    "\n",
    "            \n",
    "        return action\n",
    "            \n",
    "        \n",
    "        \n",
    "        \n",
    "    \n",
    "        \n",
    "        \n",
    "        "
   ]
  },
  {
   "cell_type": "code",
   "execution_count": 24,
   "metadata": {},
   "outputs": [],
   "source": [
    "ai = MCTS()\n"
   ]
  },
  {
   "cell_type": "code",
   "execution_count": 26,
   "metadata": {},
   "outputs": [],
   "source": [
    "ai.train(printing=False, nb_rounds=10000)"
   ]
  },
  {
   "cell_type": "code",
   "execution_count": 28,
   "metadata": {},
   "outputs": [
    {
     "name": "stdout",
     "output_type": "stream",
     "text": [
      "ai move : 4\n"
     ]
    },
    {
     "data": {
      "image/png": "[encoded data removed]",
      "text/plain": [
       "<Figure size 432x288 with 1 Axes>"
      ]
     },
     "metadata": {
      "needs_background": "light"
     },
     "output_type": "display_data"
    },
    {
     "name": "stdout",
     "output_type": "stream",
     "text": [
      "3\n"
     ]
    },
    {
     "data": {
      "text/plain": [
       "<Figure size 432x288 with 0 Axes>"
      ]
     },
     "metadata": {},
     "output_type": "display_data"
    },
    {
     "data": {
      "image/png": "[encoded data removed]",
      "text/plain": [
       "<Figure size 432x288 with 1 Axes>"
      ]
     },
     "metadata": {
      "needs_background": "light"
     },
     "output_type": "display_data"
    },
    {
     "name": "stdout",
     "output_type": "stream",
     "text": [
      "ai move : 2\n"
     ]
    },
    {
     "data": {
      "text/plain": [
       "<Figure size 432x288 with 0 Axes>"
      ]
     },
     "metadata": {},
     "output_type": "display_data"
    },
    {
     "data": {
      "image/png": "[encoded data removed]",
      "text/plain": [
       "<Figure size 432x288 with 1 Axes>"
      ]
     },
     "metadata": {
      "needs_background": "light"
     },
     "output_type": "display_data"
    },
    {
     "name": "stdout",
     "output_type": "stream",
     "text": [
      "3\n"
     ]
    },
    {
     "data": {
      "text/plain": [
       "<Figure size 432x288 with 0 Axes>"
      ]
     },
     "metadata": {},
     "output_type": "display_data"
    },
    {
     "data": {
      "image/png": "[encoded data removed]",
      "text/plain": [
       "<Figure size 432x288 with 1 Axes>"
      ]
     },
     "metadata": {
      "needs_background": "light"
     },
     "output_type": "display_data"
    },
    {
     "name": "stdout",
     "output_type": "stream",
     "text": [
      "ai move : 4\n"
     ]
    },
    {
     "data": {
      "text/plain": [
       "<Figure size 432x288 with 0 Axes>"
      ]
     },
     "metadata": {},
     "output_type": "display_data"
    },
    {
     "data": {
      "image/png": "[encoded data removed]",
      "text/plain": [
       "<Figure size 432x288 with 1 Axes>"
      ]
     },
     "metadata": {
      "needs_background": "light"
     },
     "output_type": "display_data"
    },
    {
     "name": "stdout",
     "output_type": "stream",
     "text": [
      "4\n"
     ]
    },
    {
     "data": {
      "text/plain": [
       "<Figure size 432x288 with 0 Axes>"
      ]
     },
     "metadata": {},
     "output_type": "display_data"
    },
    {
     "data": {
      "image/png": "[encoded data removed]",
      "text/plain": [
       "<Figure size 432x288 with 1 Axes>"
      ]
     },
     "metadata": {
      "needs_background": "light"
     },
     "output_type": "display_data"
    },
    {
     "name": "stdout",
     "output_type": "stream",
     "text": [
      "ai move : 5\n"
     ]
    },
    {
     "data": {
      "text/plain": [
       "<Figure size 432x288 with 0 Axes>"
      ]
     },
     "metadata": {},
     "output_type": "display_data"
    },
    {
     "data": {
      "image/png": "[encoded data removed]",
      "text/plain": [
       "<Figure size 432x288 with 1 Axes>"
      ]
     },
     "metadata": {
      "needs_background": "light"
     },
     "output_type": "display_data"
    },
    {
     "name": "stdout",
     "output_type": "stream",
     "text": [
      "3\n"
     ]
    },
    {
     "data": {
      "text/plain": [
       "<Figure size 432x288 with 0 Axes>"
      ]
     },
     "metadata": {},
     "output_type": "display_data"
    },
    {
     "data": {
      "image/png": "[encoded data removed]",
      "text/plain": [
       "<Figure size 432x288 with 1 Axes>"
      ]
     },
     "metadata": {
      "needs_background": "light"
     },
     "output_type": "display_data"
    },
    {
     "name": "stdout",
     "output_type": "stream",
     "text": [
      "ai move : 3\n"
     ]
    },
    {
     "data": {
      "text/plain": [
       "<Figure size 432x288 with 0 Axes>"
      ]
     },
     "metadata": {},
     "output_type": "display_data"
    },
    {
     "data": {
      "image/png": "[encoded data removed]",
      "text/plain": [
       "<Figure size 432x288 with 1 Axes>"
      ]
     },
     "metadata": {
      "needs_background": "light"
     },
     "output_type": "display_data"
    },
    {
     "name": "stdout",
     "output_type": "stream",
     "text": [
      "2\n"
     ]
    },
    {
     "data": {
      "text/plain": [
       "<Figure size 432x288 with 0 Axes>"
      ]
     },
     "metadata": {},
     "output_type": "display_data"
    },
    {
     "data": {
      "image/png": "[encoded data removed]",
      "text/plain": [
       "<Figure size 432x288 with 1 Axes>"
      ]
     },
     "metadata": {
      "needs_background": "light"
     },
     "output_type": "display_data"
    },
    {
     "name": "stdout",
     "output_type": "stream",
     "text": [
      "ai move : 0\n"
     ]
    },
    {
     "data": {
      "text/plain": [
       "<Figure size 432x288 with 0 Axes>"
      ]
     },
     "metadata": {},
     "output_type": "display_data"
    },
    {
     "data": {
      "image/png": "[encoded data removed]",
      "text/plain": [
       "<Figure size 432x288 with 1 Axes>"
      ]
     },
     "metadata": {
      "needs_background": "light"
     },
     "output_type": "display_data"
    },
    {
     "name": "stdout",
     "output_type": "stream",
     "text": [
      "1\n"
     ]
    },
    {
     "data": {
      "text/plain": [
       "<Figure size 432x288 with 0 Axes>"
      ]
     },
     "metadata": {},
     "output_type": "display_data"
    },
    {
     "data": {
      "image/png": "[encoded data removed]",
      "text/plain": [
       "<Figure size 432x288 with 1 Axes>"
      ]
     },
     "metadata": {
      "needs_background": "light"
     },
     "output_type": "display_data"
    },
    {
     "name": "stdout",
     "output_type": "stream",
     "text": [
      "ai move : 1\n"
     ]
    },
    {
     "data": {
      "text/plain": [
       "<Figure size 432x288 with 0 Axes>"
      ]
     },
     "metadata": {},
     "output_type": "display_data"
    },
    {
     "data": {
      "image/png": "[encoded data removed]",
      "text/plain": [
       "<Figure size 432x288 with 1 Axes>"
      ]
     },
     "metadata": {
      "needs_background": "light"
     },
     "output_type": "display_data"
    },
    {
     "name": "stdout",
     "output_type": "stream",
     "text": [
      "4\n"
     ]
    },
    {
     "data": {
      "text/plain": [
       "<Figure size 432x288 with 0 Axes>"
      ]
     },
     "metadata": {},
     "output_type": "display_data"
    },
    {
     "data": {
      "image/png": "[encoded data removed]",
      "text/plain": [
       "<Figure size 432x288 with 1 Axes>"
      ]
     },
     "metadata": {
      "needs_background": "light"
     },
     "output_type": "display_data"
    },
    {
     "name": "stdout",
     "output_type": "stream",
     "text": [
      "You won !\n"
     ]
    },
    {
     "data": {
      "text/plain": [
       "<Figure size 432x288 with 0 Axes>"
      ]
     },
     "metadata": {},
     "output_type": "display_data"
    }
   ],
   "source": [
    "final = False\n",
    "ai.game.init_state()\n",
    "ai.reset()\n",
    "\n",
    "while not final:\n",
    "    player, _ = ai.game.state\n",
    "    \n",
    "    if player == -1:\n",
    "        #your turn\n",
    "        move = int(input())\n",
    "        \n",
    "    if player == 1:\n",
    "        move = ai.play()\n",
    "        print('ai move : '+str(move))\n",
    "        \n",
    "    reward, final = ai.game.step(action=move)\n",
    "    if move in ai.current_node.children.keys():\n",
    "        ai.current_node = ai.current_node.children[move]\n",
    "    else:\n",
    "        child = ai.expand(ai.current_node, move)\n",
    "        ai.current_node = child\n",
    "    ai.game.display()\n",
    "    \n",
    "if reward < 0:\n",
    "    print('You won !')\n",
    "else:\n",
    "    print('The AI beat you...')"
   ]
  },
  {
   "cell_type": "markdown",
   "metadata": {},
   "source": [
    "# Questions\n",
    "\n",
    "* Implement UCT in the next_move function such that the tree search algorithm of the AI is not purely random.\n",
    "* The UCT algorithm relies on a default policy that simulates values for the nodes to be expanded. Can you think of a way to improve this default policy to make the tree search even more efficient ? \n",
    "* Print out the values of the UCBs for the first 7 actions at the root. Did the AI learn a pattern ? Is it reliable ? \n",
    "* Print out more UCB values for the second move in the tree after different number of training rounds. Can you observe that the AI learns some techniques ?\n",
    "* Look for the sequence (Y:0, R:6, Y:1, R:6, Y:0, R:6) in the tree. Has it been explored already ? If not, run more training rounds to give a chance to the AI to explore it. When it has been explored, can you check that the best response for Yellow at next round is to play 6 in order to block the immediate win of Red ? Searching for immediate win at next round is a classical deterministic technique to improve tree search algorithms, it good, for instance, improve the default policy. "
   ]
  }
 ],
 "metadata": {
  "kernelspec": {
   "display_name": "Python 3",
   "language": "python",
   "name": "python3"
  },
  "language_info": {
   "codemirror_mode": {
    "name": "ipython",
    "version": 3
   },
   "file_extension": ".py",
   "mimetype": "text/x-python",
   "name": "python",
   "nbconvert_exporter": "python",
   "pygments_lexer": "ipython3",
   "version": "3.7.4-final"
  }
 },
 "nbformat": 4,
 "nbformat_minor": 4
}